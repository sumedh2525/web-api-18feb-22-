{
 "cells": [
  {
   "cell_type": "raw",
   "id": "05dd4be3-7564-4294-8175-ea57880d4a05",
   "metadata": {},
   "source": [
    "Q1. What is an API? Give an example, where an API is used in real life.\n",
    "Ans: APIs are used in web applications to connect user-facing front ends with critical back-end functionality and data.\n",
    "APIs are used to deliver material by streaming services such as Spotify and Netflix."
   ]
  },
  {
   "cell_type": "raw",
   "id": "07035038-9f91-4f49-9ff0-c276b0dd26ba",
   "metadata": {},
   "source": [
    "Q2. Give advantages and disadvantages of using API.\n",
    " API stands for 'application programming interface,' and the dictionary describes it as \n",
    " \"a set of functions and procedures allowing the creation of applications that access the features or data of an operating system, application, or other services.\""
   ]
  },
  {
   "cell_type": "raw",
   "id": "956fe833-4729-4949-b92e-a8590173af19",
   "metadata": {},
   "source": [
    "Q3. What is a Web API? Differentiate between API and Web API.\n",
    "Ans: API is an interface that exposes an application's data to outside software, whereas web applications are one type of API with stricter requirements. \n",
    "These requirements include network communication, SOAP as the primary protocol, and less accessibility for the public"
   ]
  },
  {
   "cell_type": "raw",
   "id": "46987986-8ffb-4a66-9938-ae04c5ba2142",
   "metadata": {},
   "source": [
    "Q4. Explain REST and SOAP Architecture. Mention shortcomings of SOAP.\n",
    "Ans:SOAP cannot use REST because SOAP is a protocol and REST has an architectural style.\n",
    "  REST can use SOAP as a protocol for web services. SOAP uses WSDL to expose supported methods and technical details.\n",
    "  REST exposes methods through URIs, there are no technical details"
   ]
  },
  {
   "cell_type": "raw",
   "id": "b70e9206-8396-4aed-8a15-d33f46d58672",
   "metadata": {},
   "source": [
    "Q6.Differentiate between REST and SOAP.\n",
    " Representational state transfer (REST) is a set of architectural principles.\n",
    " Simple object access protocol (SOAP) is an official protocol maintained by the World Wide Web Consortium (W3C). \n",
    " The main difference is that SOAP is a protocol while REST is not."
   ]
  }
 ],
 "metadata": {
  "kernelspec": {
   "display_name": "Python 3 (ipykernel)",
   "language": "python",
   "name": "python3"
  },
  "language_info": {
   "codemirror_mode": {
    "name": "ipython",
    "version": 3
   },
   "file_extension": ".py",
   "mimetype": "text/x-python",
   "name": "python",
   "nbconvert_exporter": "python",
   "pygments_lexer": "ipython3",
   "version": "3.10.8"
  }
 },
 "nbformat": 4,
 "nbformat_minor": 5
}
